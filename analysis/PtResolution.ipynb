{
 "cells": [
  {
   "cell_type": "code",
   "execution_count": null,
   "metadata": {},
   "outputs": [],
   "source": [
    "import uproot\n",
    "import awkward as ak\n",
    "import matplotlib.pyplot as plt"
   ]
  },
  {
   "cell_type": "code",
   "execution_count": null,
   "metadata": {},
   "outputs": [],
   "source": [
    "file = uproot.open(\"../output/all_runs_ana.root\")\n",
    "tree = file[\"Events\"]\n",
    "\n",
    "data_ak = tree.arrays([\"PDGcode\", \"isPrimary\", \"Pt_ini\", \"ITS_Pt_rec\", \"ITS_LH_Pt\", \"TPC_Pt_rec\", \"TPC_FH_Pt\"], library=\"ak\")"
   ]
  },
  {
   "cell_type": "code",
   "execution_count": null,
   "metadata": {},
   "outputs": [],
   "source": [
    "def plot_pt(pdgcode):\n",
    "    if pdgcode == 2212:\n",
    "        low_pt_ini = 0.2\n",
    "        high_pt_ini = 0.35\n",
    "    elif pdgcode == 321:\n",
    "        low_pt_ini = 0.125\n",
    "        high_pt_ini = 0.25\n",
    "    elif pdgcode == 211:\n",
    "        low_pt_ini = 0.05\n",
    "        high_pt_ini = 0.15\n",
    "\n",
    "    selected_data = data_ak[(abs(data_ak[\"PDGcode\"]) == pdgcode) &\n",
    "                            (data_ak[\"isPrimary\"] == 1) &\n",
    "                            (low_pt_ini <= data_ak[\"Pt_ini\"]) &\n",
    "                            (data_ak[\"Pt_ini\"] <= high_pt_ini)]\n",
    "\n",
    "    flat_ini_pt = ak.flatten(selected_data[\"Pt_ini\"])\n",
    "    flat_its_lh_pt = ak.flatten(selected_data[\"ITS_LH_Pt\"])\n",
    "    flat_its_rec_pt = ak.flatten(selected_data[\"ITS_Pt_rec\"])\n",
    "    flat_its_rec_pt = ak.flatten(selected_data[\"TPC_FH_Pt\"])\n",
    "    flat_its_rec_pt = ak.flatten(selected_data[\"TPC_Pt_rec\"])\n",
    "\n",
    "    # Plot the transverse momentum\n",
    "    plt.figure(figsize=(3 * 4, 2 * 4))\n",
    "\n",
    "    plt.subplot(2, 3, 1)\n",
    "    plt.hist(flat_ini_pt, bins=100, range=(low_pt_ini - 0.05, high_pt_ini + 0.05))\n",
    "\n",
    "    plt.subplot(2, 3, 2)\n",
    "    plt.hist(flat_its_lh_pt, bins=100, range=(0., 1.2 * high_pt_ini))\n",
    "\n",
    "    plt.subplot(2, 3, 3)\n",
    "    plt.hist(flat_its_rec_pt, bins=100, range=(0., 1.2 * high_pt_ini))\n",
    "\n",
    "    plt.subplot(2, 3, 5)\n",
    "    plt.hist(flat_its_rec_pt, bins=100, range=(0., 1.2 * high_pt_ini))\n",
    "\n",
    "    plt.subplot(2, 3, 6)\n",
    "    plt.hist(flat_its_rec_pt, bins=100, range=(0., 1.2 * high_pt_ini))\n",
    "\n",
    "    plt.show()"
   ]
  },
  {
   "cell_type": "code",
   "execution_count": null,
   "metadata": {},
   "outputs": [],
   "source": [
    "plot_pt(2212)\n",
    "plot_pt(211)\n",
    "plot_pt(321)"
   ]
  }
 ],
 "metadata": {
  "kernelspec": {
   "display_name": "cottonmouth",
   "language": "python",
   "name": "cottonmouth"
  },
  "language_info": {
   "codemirror_mode": {
    "name": "ipython",
    "version": 3
   },
   "file_extension": ".py",
   "mimetype": "text/x-python",
   "name": "python",
   "nbconvert_exporter": "python",
   "pygments_lexer": "ipython3",
   "version": "3.8.10"
  }
 },
 "nbformat": 4,
 "nbformat_minor": 2
}
